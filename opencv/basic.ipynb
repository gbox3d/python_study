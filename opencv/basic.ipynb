{
 "cells": [
  {
   "cell_type": "markdown",
   "metadata": {},
   "source": [
    "## opencv imshow 사용하기\n",
    "쥬피터 노트북에서 imshow를 사용하면 닫히지않는현상이 있다.   \n",
    "무한대기하고있는 창을 닫으려면 커널리셋을 한다."
   ]
  },
  {
   "cell_type": "code",
   "execution_count": 2,
   "metadata": {},
   "outputs": [
    {
     "output_type": "stream",
     "name": "stdout",
     "text": "<class 'numpy.ndarray'>\n"
    }
   ],
   "source": [
    "import numpy as np\n",
    "import cv2 as cv\n",
    "# Load an color image in grayscale\n",
    "img = cv.imread('./res/contour1.png',0) \n",
    "\n",
    "print(type(img))\n",
    "# print(img[0])"
   ]
  },
  {
   "cell_type": "code",
   "execution_count": 2,
   "metadata": {},
   "outputs": [],
   "source": [
    "\n",
    "cv.imshow(\"test\", img)\n",
    "cv.waitKey(0)\n",
    "cv.destroyAllWindows()\n"
   ]
  }
 ],
 "metadata": {
  "language_info": {
   "codemirror_mode": {
    "name": "ipython",
    "version": 3
   },
   "file_extension": ".py",
   "mimetype": "text/x-python",
   "name": "python",
   "nbconvert_exporter": "python",
   "pygments_lexer": "ipython3",
   "version": "3.7.7-final"
  },
  "orig_nbformat": 2,
  "kernelspec": {
   "name": "python37764bitopencv4conda267d1634dd1a45bf9087c461d989978c",
   "display_name": "Python 3.7.7 64-bit ('opencv4': conda)"
  }
 },
 "nbformat": 4,
 "nbformat_minor": 2
}