{
 "cells": [
  {
   "cell_type": "code",
   "execution_count": null,
   "metadata": {},
   "outputs": [],
   "source": [
    "import cv2 as cv\n",
    "import numpy as np\n",
    "from PIL import Image\n",
    "from IPython.display import display\n",
    "import pathlib\n",
    "\n",
    "print( \"opencv version :\" + cv.__version__)\n",
    "print(pathlib.Path.cwd())\n"
   ]
  },
  {
   "cell_type": "markdown",
   "metadata": {},
   "source": [
    "### 결과물 출력\n",
    "\n",
    "쥬피터노트북에서는 IPython.display 를 써서 출력한다.  \n"
   ]
  },
  {
   "cell_type": "code",
   "execution_count": null,
   "metadata": {},
   "outputs": [],
   "source": [
    "\n",
    "#비트멥 만들기 \n",
    "img = np.zeros((512,512,3),np.uint8)\n",
    "\n",
    "#텍스트 출력 \n",
    "font = cv.FONT_HERSHEY_SIMPLEX\n",
    "cv.putText(img,'OpenCV ',(10,500), font, 0.5,(255,0,0),2,cv.LINE_AA)\n",
    "\n",
    "display( Image.fromarray(img) )"
   ]
  },
  {
   "cell_type": "markdown",
   "metadata": {},
   "source": [
    "### opencv  -> pil\n",
    "\n",
    "cv는 이미지를 기본적으로 BGR형식으로 로딩한다.\n",
    "그래서 출력전에 BGR 포멧을 RGB로 바꿔준다.  \n"
   ]
  },
  {
   "cell_type": "code",
   "execution_count": null,
   "metadata": {},
   "outputs": [],
   "source": [
    "\n",
    "img_cv = cv.imread('../res/mina.png')\n",
    "img_rgb = cv.cvtColor(img_cv, cv.COLOR_BGR2RGB)\n",
    "display( Image.fromarray(img_rgb) )\n"
   ]
  },
  {
   "cell_type": "code",
   "execution_count": null,
   "metadata": {},
   "outputs": [],
   "source": []
  }
 ],
 "metadata": {
  "language_info": {
   "codemirror_mode": {
    "name": "ipython",
    "version": 3
   },
   "file_extension": ".py",
   "mimetype": "text/x-python",
   "name": "python",
   "nbconvert_exporter": "python",
   "pygments_lexer": "ipython3",
   "version": "3.7.7-final"
  },
  "orig_nbformat": 2,
  "kernelspec": {
   "name": "python3",
   "display_name": "Python 3"
  }
 },
 "nbformat": 4,
 "nbformat_minor": 2
}