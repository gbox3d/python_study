{
 "cells": [
  {
   "cell_type": "markdown",
   "metadata": {},
   "source": [
    "## 시간처리 기법\n",
    "참고 : https://inma.tistory.com/96  \n"
   ]
  },
  {
   "cell_type": "code",
   "execution_count": 1,
   "metadata": {},
   "outputs": [
    {
     "output_type": "stream",
     "name": "stdout",
     "text": "3.7.7 (default, Mar 26 2020, 10:32:53) \n[Clang 4.0.1 (tags/RELEASE_401/final)]\n"
    }
   ],
   "source": [
    "import sys\n",
    "from datetime import datetime\n",
    "import time\n",
    "\n",
    "print(sys.version)\n",
    "\n"
   ]
  },
  {
   "cell_type": "markdown",
   "metadata": {},
   "source": [
    "### 형식화된 표기법\n",
    "\n",
    "d m Y(y) : 날짜 , 2020 이라면 대문자는 풀로 쓰고 소문자는 20만 쓴다.  \n",
    "H M S : 시간\n"
   ]
  },
  {
   "cell_type": "code",
   "execution_count": 9,
   "metadata": {},
   "outputs": [
    {
     "output_type": "stream",
     "name": "stdout",
     "text": "now = 2020-05-03 01:03:29.365796\nnow time =0103\ndate and time = 03/05/2020 01:03:29\n"
    }
   ],
   "source": [
    "\n",
    "# datetime object containing current date and time\n",
    "now = datetime.now()\n",
    "print(\"now =\", now)\n",
    "print(\"now time =\" + now.strftime(\"%H%M\"))\n",
    "# dd/mm/YY H:M:S\n",
    "dt_string = now.strftime(\"%d/%m/%Y %H:%M:%S\")\n",
    "print(f\"date and time = {dt_string}\")\t\n"
   ]
  },
  {
   "cell_type": "code",
   "execution_count": 4,
   "metadata": {},
   "outputs": [
    {
     "output_type": "stream",
     "name": "stdout",
     "text": "date and time = 03/05/2020 00:59:50\ntime.struct_time(tm_year=2020, tm_mon=5, tm_mday=3, tm_hour=0, tm_min=59, tm_sec=50, tm_wday=6, tm_yday=124, tm_isdst=-1)\n1588435190.0\n"
    }
   ],
   "source": [
    "\n",
    "print(now.timetuple())\n",
    "#time stamp   변환 \n",
    "print(time.mktime(now.timetuple()))\n",
    "\n"
   ]
  },
  {
   "cell_type": "markdown",
   "metadata": {},
   "source": [
    "### time stemp\n",
    "time.sleep(delay) : 시스템 포즈, 딜래이값의 단위는 초단위 이며 1초 이하의 단위는 소수점으로 표현가능    \n",
    "time.time() : 타임스탭구하기, 소수점 가능한 초단위"
   ]
  },
  {
   "cell_type": "code",
   "execution_count": 10,
   "metadata": {},
   "outputs": [
    {
     "output_type": "stream",
     "name": "stdout",
     "text": "start tick\ndelay 3.1413121223449707\n"
    }
   ],
   "source": [
    "start_tick = time.time()\n",
    "print(f'start tick')\n",
    "time.sleep(3.14)\n",
    "print(f'delay { time.time() - start_tick }')"
   ]
  },
  {
   "cell_type": "code",
   "execution_count": null,
   "metadata": {},
   "outputs": [],
   "source": []
  }
 ],
 "metadata": {
  "language_info": {
   "codemirror_mode": {
    "name": "ipython",
    "version": 3
   },
   "file_extension": ".py",
   "mimetype": "text/x-python",
   "name": "python",
   "nbconvert_exporter": "python",
   "pygments_lexer": "ipython3",
   "version": "3.7.7-final"
  },
  "orig_nbformat": 2,
  "kernelspec": {
   "name": "python3",
   "display_name": "Python 3"
  }
 },
 "nbformat": 4,
 "nbformat_minor": 2
}