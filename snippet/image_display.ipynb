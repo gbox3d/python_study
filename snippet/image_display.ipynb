{
 "cells": [
  {
   "cell_type": "markdown",
   "metadata": {},
   "source": [
    "## pillow 예제\n",
    "\n",
    "설치하기  \n",
    "``` bash\n",
    "pip install Pillow\n",
    "```\n",
    "\n",
    "공식문서 [https://pillow.readthedocs.io/en/stable/]  \n"
   ]
  },
  {
   "cell_type": "code",
   "execution_count": null,
   "metadata": {},
   "outputs": [],
   "source": [
    "from PIL import Image\n",
    "from PIL import ImageDraw\n",
    "from IPython.display import display\n",
    "import numpy as np\n",
    "import sys\n",
    "\n",
    "print(sys.version)\n",
    "\n"
   ]
  },
  {
   "cell_type": "code",
   "execution_count": null,
   "metadata": {},
   "outputs": [],
   "source": [
    "image = Image.open('./res/2.jpg')\n",
    "image_np = np.array(image)\n",
    "\n",
    "\n",
    "print( type(image))\n",
    "print(image_np.shape)\n",
    "print(image.size)\n",
    "print(image.format)\n",
    "print(image.mode)\n",
    "\n",
    "display(image)\n"
   ]
  },
  {
   "cell_type": "code",
   "execution_count": null,
   "metadata": {},
   "outputs": [],
   "source": [
    "copyImg = image.copy()\n",
    "draw = ImageDraw.Draw(copyImg)\n",
    "draw.line((100,100,250,200),fill='red',width=8)\n",
    "\n",
    "display(copyImg)\n"
   ]
  },
  {
   "cell_type": "code",
   "execution_count": null,
   "metadata": {},
   "outputs": [],
   "source": []
  }
 ],
 "metadata": {
  "language_info": {
   "codemirror_mode": {
    "name": "ipython",
    "version": 3
   },
   "file_extension": ".py",
   "mimetype": "text/x-python",
   "name": "python",
   "nbconvert_exporter": "python",
   "pygments_lexer": "ipython3",
   "version": "3.7.7-final"
  },
  "orig_nbformat": 2,
  "kernelspec": {
   "name": "python37764bitopencv4conda267d1634dd1a45bf9087c461d989978c",
   "display_name": "Python 3.7.7 64-bit ('opencv4': conda)"
  }
 },
 "nbformat": 4,
 "nbformat_minor": 2
}