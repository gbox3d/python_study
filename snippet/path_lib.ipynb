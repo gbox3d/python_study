{
 "cells": [
  {
   "cell_type": "markdown",
   "metadata": {},
   "source": [
    "## 패스다루기  \n",
    "\n",
    "참고자료  \n",
    "https://ryanking13.github.io/2018/05/22/pathlib.html#usage  \n"
   ]
  },
  {
   "cell_type": "code",
   "execution_count": 5,
   "metadata": {
    "tags": []
   },
   "outputs": [
    {
     "output_type": "stream",
     "name": "stdout",
     "text": "module ready\n"
    }
   ],
   "source": [
    "import os\n",
    "import sys\n",
    "import pathlib\n",
    "\n",
    "print('module ready')"
   ]
  },
  {
   "cell_type": "code",
   "execution_count": 7,
   "metadata": {
    "tags": []
   },
   "outputs": [
    {
     "output_type": "stream",
     "name": "stdout",
     "text": "../../businfo_v2/script\ncontrol_monitor.py\n../../businfo_v2\n"
    }
   ],
   "source": [
    "_path,_file = os.path.split('../../businfo_v2/script/control_monitor.py')\n",
    "\n",
    "print(_path)\n",
    "print(_file)\n",
    "\n",
    "_parent,_temp = os.path.split(_path)\n",
    "\n",
    "print(_parent)"
   ]
  },
  {
   "cell_type": "code",
   "execution_count": 8,
   "metadata": {
    "tags": []
   },
   "outputs": [
    {
     "output_type": "stream",
     "name": "stdout",
     "text": "/Users/gbox3d/Desktop/work/myproject/neuronetwork/python_study/snippet\n('/', 'Users', 'gbox3d', 'Desktop', 'work', 'myproject', 'neuronetwork', 'python_study', 'snippet')\n"
    }
   ],
   "source": [
    "print(pathlib.Path.cwd())\n",
    "print(pathlib.Path.cwd().parts)"
   ]
  },
  {
   "cell_type": "markdown",
   "metadata": {},
   "source": [
    "#### 상위디랙토리 확인"
   ]
  },
  {
   "cell_type": "code",
   "execution_count": 19,
   "metadata": {
    "tags": []
   },
   "outputs": [
    {
     "output_type": "stream",
     "name": "stdout",
     "text": "False\nTrue\n('/', 'Users', 'gbox3d', 'Desktop', 'work', 'myproject', 'neuronetwork', 'python_study', 'snippet')\n"
    }
   ],
   "source": [
    "print(\"python\" in pathlib.Path.cwd().parts) # 상위 디랙토리중 python  디랙토리 확인\n",
    "print(\"snippet\" in pathlib.Path.cwd().parts) # 상위 디랙토리중 snippet  디랙토리 확인\n",
    "print(pathlib.Path.cwd().parts)"
   ]
  },
  {
   "cell_type": "markdown",
   "metadata": {},
   "source": [
    "#### 파일이름확인"
   ]
  },
  {
   "cell_type": "code",
   "execution_count": 17,
   "metadata": {
    "tags": []
   },
   "outputs": [
    {
     "output_type": "stream",
     "name": "stdout",
     "text": "file name ipykernel_launcher.py\n"
    }
   ],
   "source": [
    "_path = pathlib.Path(sys.argv[0])\n",
    "_path.parts\n",
    "print(f'file name {_path.name}')\n"
   ]
  },
  {
   "cell_type": "markdown",
   "metadata": {},
   "source": [
    "#### 파일 리스팅"
   ]
  },
  {
   "cell_type": "code",
   "execution_count": 25,
   "metadata": {
    "tags": []
   },
   "outputs": [
    {
     "output_type": "stream",
     "name": "stdout",
     "text": "[PosixPath('ftp_download.py'), PosixPath('ftp_uploader.py'), PosixPath('restApi_req.py'), PosixPath('time_date.ipynb'), PosixPath('image_display.ipynb'), PosixPath('captureKeyboard.py'), PosixPath('serialPort.py'), PosixPath('child_process.py'), PosixPath('argvs.py'), PosixPath('restApi_serveri.py'), PosixPath('test.txt'), PosixPath('json_sample.py'), PosixPath('trycatch.py'), PosixPath('path_lib.ipynb'), PosixPath('type_check.py'), PosixPath('fileio_sample.py')]\n[PosixPath('ftp_download.py'), PosixPath('ftp_uploader.py'), PosixPath('restApi_req.py'), PosixPath('time_date.ipynb'), PosixPath('image_display.ipynb'), PosixPath('captureKeyboard.py'), PosixPath('serialPort.py'), PosixPath('child_process.py'), PosixPath('argvs.py'), PosixPath('restApi_serveri.py'), PosixPath('test.txt'), PosixPath('json_sample.py'), PosixPath('trycatch.py'), PosixPath('path_lib.ipynb'), PosixPath('type_check.py'), PosixPath('fileio_sample.py')]\n"
    }
   ],
   "source": [
    "_path = pathlib.Path('.')\n",
    "files = _path.glob('*')\n",
    "_file_list = list(files)\n",
    "print( _file_list)\n",
    "\n",
    "_file_list = list( _path.iterdir() )\n",
    "print(_file_list)"
   ]
  },
  {
   "cell_type": "code",
   "execution_count": 27,
   "metadata": {
    "tags": []
   },
   "outputs": [
    {
     "output_type": "stream",
     "name": "stdout",
     "text": "ftp_download.py\nftp_uploader.py\nrestApi_req.py\ntime_date.ipynb\nimage_display.ipynb\ncaptureKeyboard.py\nserialPort.py\nchild_process.py\nargvs.py\nrestApi_serveri.py\ntest.txt\njson_sample.py\ntrycatch.py\npath_lib.ipynb\ntype_check.py\nfileio_sample.py\n"
    }
   ],
   "source": [
    "# print(_file_list[0])\n",
    "for _file in _file_list :\n",
    "    print(_file)"
   ]
  },
  {
   "cell_type": "code",
   "execution_count": null,
   "metadata": {},
   "outputs": [],
   "source": []
  }
 ],
 "metadata": {
  "language_info": {
   "codemirror_mode": {
    "name": "ipython",
    "version": 3
   },
   "file_extension": ".py",
   "mimetype": "text/x-python",
   "name": "python",
   "nbconvert_exporter": "python",
   "pygments_lexer": "ipython3",
   "version": "3.7.7-final"
  },
  "orig_nbformat": 2,
  "kernelspec": {
   "name": "python3",
   "display_name": "Python 3"
  }
 },
 "nbformat": 4,
 "nbformat_minor": 2
}