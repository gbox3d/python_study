{
 "cells": [
  {
   "cell_type": "markdown",
   "metadata": {},
   "source": [
    "## 패스다루기  \n"
   ]
  },
  {
   "cell_type": "code",
   "execution_count": 1,
   "metadata": {},
   "outputs": [
    {
     "output_type": "stream",
     "name": "stdout",
     "text": "module ready\n"
    }
   ],
   "source": [
    "import os\n",
    "import pathlib\n",
    "\n",
    "print('module ready')"
   ]
  },
  {
   "cell_type": "code",
   "execution_count": 2,
   "metadata": {},
   "outputs": [
    {
     "output_type": "stream",
     "name": "stdout",
     "text": "../../businfo_v2/script\ncontrol_monitor.py\n../../businfo_v2\n"
    }
   ],
   "source": [
    "_path,_file = os.path.split('../../businfo_v2/script/control_monitor.py')\n",
    "\n",
    "print(_path)\n",
    "print(_file)\n",
    "\n",
    "_parent,_temp = os.path.split(_path)\n",
    "\n",
    "print(_parent)"
   ]
  },
  {
   "cell_type": "code",
   "execution_count": 4,
   "metadata": {},
   "outputs": [
    {
     "output_type": "stream",
     "name": "stdout",
     "text": "/Users/gbox3d/Desktop/work/myproject/etc/python\n('/', 'Users', 'gbox3d', 'Desktop', 'work', 'myproject', 'etc', 'python')\n"
    }
   ],
   "source": [
    "print(pathlib.Path.cwd())\n",
    "print(pathlib.Path.cwd().parts)"
   ]
  },
  {
   "cell_type": "code",
   "execution_count": 9,
   "metadata": {},
   "outputs": [
    {
     "output_type": "stream",
     "name": "stdout",
     "text": "True\n"
    }
   ],
   "source": [
    "print(\"python\" in pathlib.Path.cwd().parts)"
   ]
  }
 ],
 "metadata": {
  "language_info": {
   "codemirror_mode": {
    "name": "ipython",
    "version": 3
   },
   "file_extension": ".py",
   "mimetype": "text/x-python",
   "name": "python",
   "nbconvert_exporter": "python",
   "pygments_lexer": "ipython3",
   "version": "3.7.7-final"
  },
  "orig_nbformat": 2,
  "kernelspec": {
   "name": "python3",
   "display_name": "Python 3"
  }
 },
 "nbformat": 4,
 "nbformat_minor": 2
}