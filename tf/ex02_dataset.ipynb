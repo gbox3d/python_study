{
 "cells": [
  {
   "cell_type": "markdown",
   "metadata": {},
   "source": [
    "##### 참고자료\n",
    "\n",
    "https://cyc1am3n.github.io/2018/09/13/how-to-use-dataset-in-tensorflow.html\n",
    "https://m.blog.naver.com/PostView.nhn?blogId=atelierjpro&logNo=221595798266&proxyReferer=https:%2F%2Fwww.google.com%2F\n",
    "\n"
   ]
  },
  {
   "cell_type": "code",
   "execution_count": 1,
   "metadata": {},
   "outputs": [
    {
     "name": "stdout",
     "output_type": "stream",
     "text": [
      "tensor versio : 2.1.0\n"
     ]
    }
   ],
   "source": [
    "import tensorflow as tf\n",
    "import numpy as np\n",
    "\n",
    "print( f'tensor versio : {tf.__version__}')"
   ]
  },
  {
   "cell_type": "code",
   "execution_count": 28,
   "metadata": {},
   "outputs": [],
   "source": [
    "# https://m.blog.naver.com/PostView.nhn?blogId=atelierjpro&logNo=221595798266&proxyReferer=https:%2F%2Fwww.google.com%2F\n",
    "\n",
    "input = np.array([[0,0],[0,1],[1,0],[1,1]]).astype(np.float)\n",
    "output = np.array([[0],[1],[1],[0]]).astype(np.float)\n",
    "\n",
    "train_dataset = tf.data.Dataset.from_tensor_slices((input,output))\n",
    "test_dataset = tf.data.Dataset.from_tensor_slices((input,output))\n",
    "\n"
   ]
  },
  {
   "cell_type": "code",
   "execution_count": 22,
   "metadata": {},
   "outputs": [
    {
     "name": "stdout",
     "output_type": "stream",
     "text": [
      "<TensorSliceDataset shapes: ((2,), (1,)), types: (tf.float64, tf.float64)>\n"
     ]
    }
   ],
   "source": [
    "print(train_dataset)"
   ]
  },
  {
   "cell_type": "code",
   "execution_count": 44,
   "metadata": {},
   "outputs": [],
   "source": [
    "BATCH_SIZE=1\n",
    "SHUFFLE_BUFFER_SIZE = 4\n",
    "train_dataset = train_dataset.shuffle(SHUFFLE_BUFFER_SIZE).batch(BATCH_SIZE)\n",
    "test_dataset = test_dataset.batch(BATCH_SIZE)\n",
    "\n"
   ]
  },
  {
   "cell_type": "markdown",
   "metadata": {},
   "source": [
    "데이터셋 이터레이숀 예제 "
   ]
  },
  {
   "cell_type": "code",
   "execution_count": 45,
   "metadata": {},
   "outputs": [
    {
     "name": "stdout",
     "output_type": "stream",
     "text": [
      "[[1. 1.]]\n",
      "[[1. 0.]]\n",
      "[[0. 0.]]\n",
      "[[0. 1.]]\n"
     ]
    }
   ],
   "source": [
    "for element in train_dataset: \n",
    "  print(element[0].numpy() )"
   ]
  },
  {
   "cell_type": "code",
   "execution_count": null,
   "metadata": {},
   "outputs": [],
   "source": []
  }
 ],
 "metadata": {
  "kernelspec": {
   "display_name": "Python 3",
   "language": "python",
   "name": "python3"
  },
  "language_info": {
   "codemirror_mode": {
    "name": "ipython",
    "version": 3
   },
   "file_extension": ".py",
   "mimetype": "text/x-python",
   "name": "python",
   "nbconvert_exporter": "python",
   "pygments_lexer": "ipython3",
   "version": "3.7.7"
  }
 },
 "nbformat": 4,
 "nbformat_minor": 4
}
