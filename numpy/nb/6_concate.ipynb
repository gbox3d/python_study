{
 "cells": [
  {
   "cell_type": "code",
   "execution_count": 4,
   "metadata": {
    "tags": []
   },
   "outputs": [
    {
     "output_type": "stream",
     "name": "stdout",
     "text": [
      "load ok numpy version : 1.19.4\n"
     ]
    }
   ],
   "source": [
    "import numpy as np\n",
    "\n",
    "print(f'load ok numpy version : {np.__version__}')\n"
   ]
  },
  {
   "source": [
    "#차원 늘리기\n",
    "test = np.array([1,2,3])\n",
    "\n",
    "#두번째 인자가 차원을 늘려줄 축이다. 0이면 바깥쪽 1 이면 안쪽\n",
    "print(np.expand_dims(test,0)) # 바깥쪽 한차원늘리기\n",
    "print(np.expand_dims(test,1)) # 안쪽 한차원늘리기 \n"
   ],
   "cell_type": "code",
   "metadata": {},
   "execution_count": 8,
   "outputs": [
    {
     "output_type": "stream",
     "name": "stdout",
     "text": [
      "[[1 2 3]]\n[[1]\n [2]\n [3]]\n"
     ]
    }
   ]
  },
  {
   "cell_type": "code",
   "execution_count": 3,
   "metadata": {
    "tags": []
   },
   "outputs": [
    {
     "output_type": "stream",
     "name": "stdout",
     "text": "[[1, 2], [3, 4], [5, 6], [7, 8]]\n"
    }
   ],
   "source": [
    "test_array1 = [[1,2],[3,4],[5,6],[7,8]]\n",
    "test_array2 = [['a','b'],['c','d'],['e','f'],['g','h']]\n",
    "print(test_array1)"
   ]
  },
  {
   "cell_type": "code",
   "execution_count": 5,
   "metadata": {
    "tags": []
   },
   "outputs": [
    {
     "output_type": "stream",
     "name": "stdout",
     "text": "[['1' '2']\n ['3' '4']\n ['5' '6']\n ['7' '8']\n ['a' 'b']\n ['c' 'd']\n ['e' 'f']\n ['g' 'h']]\n[['1' '2']\n ['3' '4']\n ['5' '6']\n ['7' '8']\n ['a' 'b']\n ['c' 'd']\n ['e' 'f']\n ['g' 'h']]\n"
    }
   ],
   "source": [
    "print(np.concatenate((test_array1,test_array2)))\n",
    "print(np.concatenate((test_array1,test_array2),axis=0))"
   ]
  },
  {
   "cell_type": "code",
   "execution_count": 6,
   "metadata": {
    "tags": []
   },
   "outputs": [
    {
     "output_type": "stream",
     "name": "stdout",
     "text": "[['1' '2' 'a' 'b']\n ['3' '4' 'c' 'd']\n ['5' '6' 'e' 'f']\n ['7' '8' 'g' 'h']]\n"
    }
   ],
   "source": [
    "print(np.concatenate((test_array1,test_array2),axis=-1))"
   ]
  }
 ],
 "metadata": {
  "language_info": {
   "codemirror_mode": {
    "name": "ipython",
    "version": 3
   },
   "file_extension": ".py",
   "mimetype": "text/x-python",
   "name": "python",
   "nbconvert_exporter": "python",
   "pygments_lexer": "ipython3",
   "version": "3.7.9-final"
  },
  "orig_nbformat": 2,
  "kernelspec": {
   "name": "python3",
   "display_name": "Python 3.7.9 64-bit",
   "metadata": {
    "interpreter": {
     "hash": "1d366e01291e2f5c81a008a186a1663c6a6bc5b6dee15b548554a099045770ad"
    }
   }
  }
 },
 "nbformat": 4,
 "nbformat_minor": 2
}