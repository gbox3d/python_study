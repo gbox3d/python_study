{
 "cells": [
  {
   "cell_type": "code",
   "execution_count": 1,
   "metadata": {},
   "outputs": [
    {
     "output_type": "stream",
     "name": "stdout",
     "text": "[[[101 131]]\n\n [[101 237]]\n\n [[248 237]]\n\n [[248 131]]]\n"
    }
   ],
   "source": [
    "import numpy as np\n",
    "\n",
    "x1 = np.array([\n",
    "    [[101,131]],\n",
    "    [[101,237]],\n",
    "    [[248,237]],\n",
    "    [[248,131]]\n",
    "    ])\n",
    "\n",
    "#리스트를 만든 다음 배열로 전환\n",
    "_tmp=[] \n",
    "for _ in x1 : \n",
    "    _tmp.append(_)\n",
    "print(np.array(_tmp) )\n",
    "\n",
    "\n",
    "\n"
   ]
  },
  {
   "cell_type": "code",
   "execution_count": 4,
   "metadata": {},
   "outputs": [
    {
     "output_type": "stream",
     "name": "stdout",
     "text": "[[101 131]\n [101 237]\n [248 237]\n [248 131]]\n"
    }
   ],
   "source": [
    "# [] 1단계 차원을 내려서 배열에 쌓기\n",
    "_tmp = []\n",
    "for _ in x1 : \n",
    "    _tmp.append(_[0])\n",
    "print(np.array(_tmp) )\n",
    "\n"
   ]
  },
  {
   "cell_type": "code",
   "execution_count": 5,
   "metadata": {},
   "outputs": [
    {
     "output_type": "stream",
     "name": "stdout",
     "text": "[[101 131]\n [101 237]\n [248 237]\n [248 131]]\n"
    }
   ],
   "source": [
    "\n",
    "#단순화 시킨방법\n",
    "_tmp = [_[0] for _ in x1 ]\n",
    "print( np.array( _tmp ))"
   ]
  },
  {
   "cell_type": "code",
   "execution_count": null,
   "metadata": {},
   "outputs": [],
   "source": []
  }
 ],
 "metadata": {
  "language_info": {
   "codemirror_mode": {
    "name": "ipython",
    "version": 3
   },
   "file_extension": ".py",
   "mimetype": "text/x-python",
   "name": "python",
   "nbconvert_exporter": "python",
   "pygments_lexer": "ipython3",
   "version": "3.7.7-final"
  },
  "orig_nbformat": 2,
  "kernelspec": {
   "name": "python37764bitopencv4conda267d1634dd1a45bf9087c461d989978c",
   "display_name": "Python 3.7.7 64-bit ('opencv4': conda)"
  }
 },
 "nbformat": 4,
 "nbformat_minor": 2
}