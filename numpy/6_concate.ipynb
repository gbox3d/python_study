{
 "cells": [
  {
   "cell_type": "code",
   "execution_count": 2,
   "metadata": {
    "tags": []
   },
   "outputs": [
    {
     "output_type": "stream",
     "name": "stdout",
     "text": "load ok numpy version : 1.19.0\n"
    }
   ],
   "source": [
    "import numpy as np\n",
    "\n",
    "print(f'load ok numpy version : {np.__version__}')\n"
   ]
  },
  {
   "cell_type": "code",
   "execution_count": 3,
   "metadata": {
    "tags": []
   },
   "outputs": [
    {
     "output_type": "stream",
     "name": "stdout",
     "text": "[[1, 2], [3, 4], [5, 6], [7, 8]]\n"
    }
   ],
   "source": [
    "test_array1 = [[1,2],[3,4],[5,6],[7,8]]\n",
    "test_array2 = [['a','b'],['c','d'],['e','f'],['g','h']]\n",
    "print(test_array1)"
   ]
  },
  {
   "cell_type": "code",
   "execution_count": 5,
   "metadata": {
    "tags": []
   },
   "outputs": [
    {
     "output_type": "stream",
     "name": "stdout",
     "text": "[['1' '2']\n ['3' '4']\n ['5' '6']\n ['7' '8']\n ['a' 'b']\n ['c' 'd']\n ['e' 'f']\n ['g' 'h']]\n[['1' '2']\n ['3' '4']\n ['5' '6']\n ['7' '8']\n ['a' 'b']\n ['c' 'd']\n ['e' 'f']\n ['g' 'h']]\n"
    }
   ],
   "source": [
    "print(np.concatenate((test_array1,test_array2)))\n",
    "print(np.concatenate((test_array1,test_array2),axis=0))"
   ]
  },
  {
   "cell_type": "code",
   "execution_count": 6,
   "metadata": {
    "tags": []
   },
   "outputs": [
    {
     "output_type": "stream",
     "name": "stdout",
     "text": "[['1' '2' 'a' 'b']\n ['3' '4' 'c' 'd']\n ['5' '6' 'e' 'f']\n ['7' '8' 'g' 'h']]\n"
    }
   ],
   "source": [
    "print(np.concatenate((test_array1,test_array2),axis=-1))"
   ]
  }
 ],
 "metadata": {
  "language_info": {
   "codemirror_mode": {
    "name": "ipython",
    "version": 3
   },
   "file_extension": ".py",
   "mimetype": "text/x-python",
   "name": "python",
   "nbconvert_exporter": "python",
   "pygments_lexer": "ipython3",
   "version": 3
  },
  "orig_nbformat": 2,
  "kernelspec": {
   "name": "python_defaultSpec_1593599515142",
   "display_name": "Python 3.7.7 64-bit ('opencv4': conda)"
  }
 },
 "nbformat": 4,
 "nbformat_minor": 2
}