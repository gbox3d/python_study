{
 "cells": [
  {
   "cell_type": "code",
   "execution_count": 1,
   "metadata": {
    "tags": []
   },
   "outputs": [
    {
     "output_type": "stream",
     "name": "stdout",
     "text": "load ok numpy version : 1.19.0\n"
    }
   ],
   "source": [
    "import numpy as np \n",
    "\n",
    "print(f'load ok numpy version : {np.__version__}')"
   ]
  },
  {
   "cell_type": "markdown",
   "metadata": {},
   "source": [
    "## 배열생성"
   ]
  },
  {
   "cell_type": "code",
   "execution_count": 2,
   "metadata": {
    "tags": []
   },
   "outputs": [
    {
     "output_type": "stream",
     "name": "stdout",
     "text": "[0 1 2 3 4 5 6 7 8 9]\n"
    }
   ],
   "source": [
    "arr1 = np.arange(0,10,1)\n",
    "print(arr1[:])\n"
   ]
  },
  {
   "cell_type": "markdown",
   "metadata": {},
   "source": [
    "## 기본적인 배열 요소 접근"
   ]
  },
  {
   "cell_type": "code",
   "execution_count": 3,
   "metadata": {
    "tags": []
   },
   "outputs": [
    {
     "output_type": "stream",
     "name": "stdout",
     "text": "0\n3\n"
    }
   ],
   "source": [
    "#첫번째요소\n",
    "print(arr1[0])\n",
    "# out : 0\n",
    "\n",
    "#3번째 요소 \n",
    "print(arr1[3])\n",
    "# out : 3"
   ]
  },
  {
   "cell_type": "markdown",
   "metadata": {},
   "source": [
    "## 특정위치 요소 접근"
   ]
  },
  {
   "cell_type": "code",
   "execution_count": 15,
   "metadata": {
    "tags": []
   },
   "outputs": [
    {
     "output_type": "stream",
     "name": "stdout",
     "text": "[0 1 2 3 4 5 6 7 8 9]\n[2 3 4 5 6]\n"
    }
   ],
   "source": [
    "# 전체 \n",
    "print(arr1[:])\n",
    "\n",
    "# 1~7번째 요소  7번째는 포함하지않음\n",
    "print(arr1[2:7])\n",
    "\n",
    "\n"
   ]
  },
  {
   "cell_type": "code",
   "execution_count": 16,
   "metadata": {
    "tags": []
   },
   "outputs": [
    {
     "output_type": "stream",
     "name": "stdout",
     "text": "[0 1 2 3 4 5 6 7 8 9]\n[1 2 3 4 5 6 7 8 9]\n[2 3 4 5 6 7 8 9]\n"
    }
   ],
   "source": [
    "# 인덳싱은 기준이 0 부터 시작, 앞에 오는 인덱싱은 자기 부터 \n",
    "print(arr1[0:])\n",
    "print(arr1[1:])\n",
    "print(arr1[2:])"
   ]
  },
  {
   "cell_type": "code",
   "execution_count": 17,
   "metadata": {
    "tags": []
   },
   "outputs": [
    {
     "output_type": "stream",
     "name": "stdout",
     "text": "[0]\n[0 1]\n[0 1 2]\n"
    }
   ],
   "source": [
    "# 뒤에 오는 인덱싱은 자기 전까지 \n",
    "print(arr1[0:1])\n",
    "print(arr1[0:2])\n",
    "print(arr1[0:3])\n"
   ]
  },
  {
   "cell_type": "markdown",
   "metadata": {},
   "source": [
    "## 2차원"
   ]
  },
  {
   "cell_type": "code",
   "execution_count": 23,
   "metadata": {
    "tags": []
   },
   "outputs": [
    {
     "output_type": "stream",
     "name": "stdout",
     "text": "[[ 1  2  3  4]\n [ 5  6  7  8]\n [ 9 10 11 12]]\n"
    }
   ],
   "source": [
    "arr2 = np.array([[1,2,3,4],\n",
    "                 [5,6,7,8],\n",
    "                 [9,10,11,12]])\n",
    "print(arr2)"
   ]
  },
  {
   "cell_type": "code",
   "execution_count": 20,
   "metadata": {
    "tags": []
   },
   "outputs": [
    {
     "output_type": "stream",
     "name": "stdout",
     "text": "5\n5\n"
    }
   ],
   "source": [
    "# 둘은 같다.\n",
    "print(arr2[1][0]) \n",
    "print(arr2[1,0]) "
   ]
  },
  {
   "cell_type": "code",
   "execution_count": 22,
   "metadata": {
    "tags": []
   },
   "outputs": [
    {
     "output_type": "stream",
     "name": "stdout",
     "text": "[ 9 10 11 12]\n[ 3  7 11]\n[[ 1  2]\n [ 5  6]\n [ 9 10]]\n"
    }
   ],
   "source": [
    "#2행의 모든 원소꺼내기 \n",
    "print(arr2[2,:])\n",
    "\n",
    "#2열의 모든 원소 꺼내기 \n",
    "print(arr2[:,2])\n",
    "\n",
    "# 0,1열의 모든 원소 꺼내기 \n",
    "print(arr2[:,0:2])"
   ]
  },
  {
   "cell_type": "markdown",
   "metadata": {},
   "source": [
    "## 3차원 "
   ]
  },
  {
   "cell_type": "code",
   "execution_count": 24,
   "metadata": {
    "tags": []
   },
   "outputs": [
    {
     "output_type": "stream",
     "name": "stdout",
     "text": "[[[101 131]]\n\n [[101 237]]\n\n [[248 237]]\n\n [[248 131]]]\n"
    }
   ],
   "source": [
    "x2 = np.array([\n",
    "    [[101,131]],\n",
    "    [[101,237]],\n",
    "    [[248,237]],\n",
    "    [[248,131]]\n",
    "    ])\n",
    "print(x2)"
   ]
  },
  {
   "cell_type": "code",
   "execution_count": 25,
   "metadata": {
    "tags": []
   },
   "outputs": [
    {
     "output_type": "stream",
     "name": "stdout",
     "text": "[[101 131]]\n[[101 237]]\n"
    }
   ],
   "source": [
    "print(x2[0]) # 첫번째 배열 원소\n",
    "\n",
    "print(x2[1,:,:]) # 첫번째 원소 꺼내기 x2[1] 와 같은 결과 \n"
   ]
  },
  {
   "cell_type": "code",
   "execution_count": 26,
   "metadata": {
    "tags": []
   },
   "outputs": [
    {
     "output_type": "stream",
     "name": "stdout",
     "text": "[[101 131]\n [101 237]\n [248 237]\n [248 131]]\n"
    }
   ],
   "source": [
    "print(x2[:,0]) "
   ]
  },
  {
   "cell_type": "code",
   "execution_count": 28,
   "metadata": {
    "tags": []
   },
   "outputs": [
    {
     "output_type": "stream",
     "name": "stdout",
     "text": "[[101]\n [101]\n [248]\n [248]]\n[[131]\n [237]\n [237]\n [131]]\n"
    }
   ],
   "source": [
    "print(x2[:,:,0]) # 1번째 열 원소 만 꺼내기\n",
    "print(x2[:,:,1]) # 2번째 열 원소 만 꺼내기 "
   ]
  },
  {
   "cell_type": "code",
   "execution_count": 37,
   "metadata": {
    "tags": []
   },
   "outputs": [
    {
     "output_type": "stream",
     "name": "stdout",
     "text": "[[[101]]\n\n [[101]]\n\n [[248]]\n\n [[248]]]\n[[[131]]\n\n [[237]]\n\n [[237]]\n\n [[131]]]\n"
    }
   ],
   "source": [
    "print(x2[:,:,:1])\n",
    "print(x2[:,:,1:])"
   ]
  },
  {
   "cell_type": "code",
   "execution_count": 38,
   "metadata": {
    "tags": []
   },
   "outputs": [
    {
     "output_type": "stream",
     "name": "stdout",
     "text": "[101 131]\n[101 237]\n[248 237]\n"
    }
   ],
   "source": [
    "\n",
    "print(x2[0,0])\n",
    "print(x2[1,0])\n",
    "print(x2[2,0])\n",
    "\n",
    "\n"
   ]
  },
  {
   "cell_type": "code",
   "execution_count": null,
   "metadata": {},
   "outputs": [],
   "source": []
  }
 ],
 "metadata": {
  "language_info": {
   "codemirror_mode": {
    "name": "ipython",
    "version": 3
   },
   "file_extension": ".py",
   "mimetype": "text/x-python",
   "name": "python",
   "nbconvert_exporter": "python",
   "pygments_lexer": "ipython3",
   "version": "3.7.7-final"
  },
  "orig_nbformat": 2,
  "kernelspec": {
   "name": "python37764bitopencv4conda267d1634dd1a45bf9087c461d989978c",
   "display_name": "Python 3.7.7 64-bit ('opencv4': conda)"
  }
 },
 "nbformat": 4,
 "nbformat_minor": 2
}