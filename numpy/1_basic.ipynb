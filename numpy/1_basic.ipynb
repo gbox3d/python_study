{
 "cells": [
  {
   "cell_type": "code",
   "execution_count": 27,
   "metadata": {},
   "outputs": [
    {
     "output_type": "stream",
     "name": "stdout",
     "text": "3.7.7 (default, Mar 26 2020, 10:32:53) \n[Clang 4.0.1 (tags/RELEASE_401/final)]\n[1, 2, 3, 4, 5] <class 'list'>\n"
    }
   ],
   "source": [
    "import sys\n",
    "import numpy as np \n",
    "\n",
    "print(sys.version)\n",
    "data1 = [1,2,3,4,5]\n",
    "print(data1,type(data1))\n"
   ]
  },
  {
   "cell_type": "markdown",
   "metadata": {},
   "source": [
    "### 기본 정보 얻기\n",
    "\n",
    "dtype : 데이터 타입구하기  \n",
    "shape : 데이터 구성 형식\n"
   ]
  },
  {
   "cell_type": "code",
   "execution_count": 36,
   "metadata": {},
   "outputs": [
    {
     "output_type": "stream",
     "name": "stdout",
     "text": "array length use shape value  5 \narray length use len 5 \n[1 2 3 4 5] <class 'numpy.ndarray'>\ndata type : int64\n"
    }
   ],
   "source": [
    "\n",
    "arr1 = np.array(data1)\n",
    "\n",
    "# print(np.shape(arr1))\n",
    "print( f'array length use shape value  {arr1.shape[0]} ')\n",
    "print( f'array length use len {len(arr1)} ')\n",
    "\n",
    "print(arr1,type(arr1))\n",
    "print(f'data type : {arr1.dtype}')\n"
   ]
  },
  {
   "cell_type": "markdown",
   "metadata": {},
   "source": [
    "### 데이터 형 변환\n",
    "astype()  "
   ]
  },
  {
   "cell_type": "code",
   "execution_count": 37,
   "metadata": {},
   "outputs": [
    {
     "output_type": "stream",
     "name": "stdout",
     "text": "[1. 2. 3. 4. 5.]\nfloat64\n"
    }
   ],
   "source": [
    "\n",
    "_arr1 = arr1.astype(np.float)\n",
    "print(_arr1)\n",
    "print(_arr1.dtype)\n",
    "\n"
   ]
  },
  {
   "cell_type": "code",
   "execution_count": 9,
   "metadata": {},
   "outputs": [
    {
     "output_type": "stream",
     "name": "stdout",
     "text": "<class 'numpy.ndarray'> <class 'numpy.ndarray'>\n[2 4 6 8]\n[20 22 24 26]\n"
    }
   ],
   "source": [
    "\n",
    "\n",
    "#배열로 만들기 \n",
    "_ary3 = np.array([1,2,3,4])\n",
    "_ary4 = np.array([10,11,12,13])\n",
    "\n",
    "print( type(_ary3) , type(_ary4) )\n",
    "\n",
    "print(_ary3[0:4]*2) \n",
    "print(_ary4[0:4]*2) # 2 곱하기 \n",
    "\n"
   ]
  },
  {
   "cell_type": "markdown",
   "metadata": {},
   "source": [
    "### masking\n",
    "```\n",
    "array[조건식] = 마스킹값 \n",
    "```"
   ]
  },
  {
   "cell_type": "code",
   "execution_count": 16,
   "metadata": {},
   "outputs": [
    {
     "output_type": "stream",
     "name": "stdout",
     "text": "[False False  True  True]\n[12 13]\n"
    }
   ],
   "source": [
    "#2보다 큰것만 True\n",
    "print(_ary3 > 2)\n",
    "print(_ary4[_ary3 > 2])"
   ]
  },
  {
   "cell_type": "code",
   "execution_count": 14,
   "metadata": {},
   "outputs": [
    {
     "output_type": "stream",
     "name": "stdout",
     "text": "['a' 'b' '-' '-']\n"
    }
   ],
   "source": [
    "\n",
    "_ary5 = np.array([20,21,22,23])\n",
    "_ary6 = np.array(['a','b','c','d'])\n",
    "_ary6[_ary3 > 2] = '-'\n",
    "\n",
    "print(_ary6)"
   ]
  },
  {
   "cell_type": "markdown",
   "metadata": {},
   "source": [
    "### copy\n"
   ]
  },
  {
   "cell_type": "code",
   "execution_count": 25,
   "metadata": {},
   "outputs": [
    {
     "output_type": "stream",
     "name": "stdout",
     "text": "[1 2 3 4 5 6 7 8 9]\n[ 1  2 13 14 15  6  7  8  9]\n"
    }
   ],
   "source": [
    "_a1 = np.array([1,2,3,4,5,6,7,8,9])\n",
    "_a2 = np.array([10,11,12,13,14,15,16,17,18,19])\n",
    "\n",
    "print(_a1)\n",
    "_a1[2:5] = _a2[3:6]\n",
    "print(_a1)\n"
   ]
  }
 ],
 "metadata": {
  "language_info": {
   "codemirror_mode": {
    "name": "ipython",
    "version": 3
   },
   "file_extension": ".py",
   "mimetype": "text/x-python",
   "name": "python",
   "nbconvert_exporter": "python",
   "pygments_lexer": "ipython3",
   "version": "3.7.7-final"
  },
  "orig_nbformat": 2,
  "kernelspec": {
   "name": "python3",
   "display_name": "Python 3"
  }
 },
 "nbformat": 4,
 "nbformat_minor": 2
}