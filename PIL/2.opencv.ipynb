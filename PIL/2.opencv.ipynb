{
 "cells": [
  {
   "cell_type": "code",
   "execution_count": null,
   "metadata": {},
   "outputs": [],
   "source": [
    "import numpy as np\n",
    "\n",
    "import PIL.Image as Image\n",
    "import PIL.ImageColor as ImageColor\n",
    "import PIL.ImageDraw as ImageDraw\n",
    "import PIL.ImageFont as ImageFont\n",
    "\n",
    "from IPython.display import display\n",
    "\n",
    "import time\n",
    "\n",
    "import cv2 as cv\n",
    "\n",
    "print( f'cv version : {cv.__version__}')"
   ]
  },
  {
   "cell_type": "code",
   "execution_count": null,
   "metadata": {},
   "outputs": [],
   "source": [
    "_img_np = cv.imread('../res/Lenna.png')\n",
    "\n",
    "#포멧 변환 \n",
    "_img_np = cv.cvtColor(_img_np,cv.COLOR_BGR2RGB)\n",
    "\n",
    "display( Image.fromarray( _img_np))"
   ]
  },
  {
   "cell_type": "markdown",
   "metadata": {},
   "source": [
    "### 카메라 입력"
   ]
  },
  {
   "cell_type": "code",
   "execution_count": null,
   "metadata": {},
   "outputs": [],
   "source": [
    "cap = cv.VideoCapture(0)\n",
    "print( f'frame width{cap.get(cv.CAP_PROP_FRAME_WIDTH)} , height : ${cap.get(cv.CAP_PROP_FRAME_HEIGHT)}' )\n",
    "time.sleep(1)\n",
    "ret,frame = cap.read()\n",
    "frame = cv.cvtColor(frame,cv.COLOR_BGR2RGB)\n",
    "display( Image.fromarray(frame))\n",
    "time.sleep(1)\n",
    "cap.release()\n",
    "print('capture ok')\n"
   ]
  },
  {
   "cell_type": "code",
   "execution_count": null,
   "metadata": {},
   "outputs": [],
   "source": []
  }
 ],
 "metadata": {
  "language_info": {
   "codemirror_mode": {
    "name": "ipython",
    "version": 3
   },
   "file_extension": ".py",
   "mimetype": "text/x-python",
   "name": "python",
   "nbconvert_exporter": "python",
   "pygments_lexer": "ipython3",
   "version": "3.7.7-final"
  },
  "orig_nbformat": 2,
  "kernelspec": {
   "name": "python37764bitopencv4conda267d1634dd1a45bf9087c461d989978c",
   "display_name": "Python 3.7.7 64-bit ('opencv4': conda)"
  }
 },
 "nbformat": 4,
 "nbformat_minor": 2
}