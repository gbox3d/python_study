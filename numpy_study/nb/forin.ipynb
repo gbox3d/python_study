{
 "cells": [
  {
   "cell_type": "markdown",
   "metadata": {},
   "source": [
    "### forin 을 활용한 필터링(골라내기) \n",
    "\n",
    "문법  \n",
    "(출력값) for 값  in numpy배열 (최종 출력 여부를 판단하는 조건)"
   ]
  },
  {
   "cell_type": "code",
   "execution_count": 2,
   "metadata": {},
   "outputs": [],
   "source": [
    "import numpy as np\n",
    "\n",
    "_test_np = np.array([1,2,3,4,5,6])\n",
    "\n",
    "#print( [_test_np  for _contour in contours if cv.contourArea(_contour) > 1000 ]\n",
    "\n"
   ]
  },
  {
   "cell_type": "markdown",
   "metadata": {},
   "source": [
    "\n",
    "전체 데티어 덤프하기  \n"
   ]
  },
  {
   "cell_type": "code",
   "execution_count": null,
   "metadata": {},
   "outputs": [],
   "source": [
    "print( [value  for value in _test_np ])"
   ]
  },
  {
   "cell_type": "markdown",
   "metadata": {},
   "source": [
    "나머지가 0이 아닌 값만 골라내기"
   ]
  },
  {
   "cell_type": "code",
   "execution_count": 4,
   "metadata": {},
   "outputs": [
    {
     "output_type": "stream",
     "name": "stdout",
     "text": "[1, 3, 5]\n"
    }
   ],
   "source": [
    "print( [_v for _v in _test_np if _v %2])"
   ]
  },
  {
   "cell_type": "markdown",
   "metadata": {},
   "source": [
    "### zip 응용"
   ]
  },
  {
   "cell_type": "code",
   "execution_count": 7,
   "metadata": {},
   "outputs": [
    {
     "output_type": "stream",
     "name": "stdout",
     "text": "[(1, 6), (2, 7), (3, 8), (1, 9)]\n[(2, 7)]\n"
    }
   ],
   "source": [
    "_a = np.array([1,2,3,1])\n",
    "_b = np.array([6,7,8,9])\n",
    "\n",
    "#모두 출력\n",
    "print( [ _v for _v in zip(_a,_b)  ])\n",
    "\n",
    "#인덱스가 2 인것만 출력\n",
    "print( [ _v for _v in zip(_a,_b) if _v[0] == 2 ])\n"
   ]
  },
  {
   "cell_type": "code",
   "execution_count": null,
   "metadata": {},
   "outputs": [],
   "source": []
  }
 ],
 "metadata": {
  "language_info": {
   "codemirror_mode": {
    "name": "ipython",
    "version": 3
   },
   "file_extension": ".py",
   "mimetype": "text/x-python",
   "name": "python",
   "nbconvert_exporter": "python",
   "pygments_lexer": "ipython3",
   "version": "3.7.7-final"
  },
  "orig_nbformat": 2,
  "kernelspec": {
   "name": "python37764bitopencv4conda267d1634dd1a45bf9087c461d989978c",
   "display_name": "Python 3.7.7 64-bit ('opencv4': conda)"
  }
 },
 "nbformat": 4,
 "nbformat_minor": 2
}